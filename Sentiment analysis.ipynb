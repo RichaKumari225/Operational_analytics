{
 "cells": [
  {
   "cell_type": "code",
   "execution_count": 1,
   "id": "2cada974-8a6a-419d-91fe-3316e4936b41",
   "metadata": {},
   "outputs": [],
   "source": [
    "import pandas as pd\n",
    "import re\n",
    "from vaderSentiment.vaderSentiment import SentimentIntensityAnalyzer\n",
    "from textblob import TextBlob\n"
   ]
  },
  {
   "cell_type": "code",
   "execution_count": 2,
   "id": "97f621e2-7fde-4c24-9543-859c81577109",
   "metadata": {},
   "outputs": [],
   "source": [
    "df=pd.read_csv(\"Claeneddf.csv\")"
   ]
  },
  {
   "cell_type": "code",
   "execution_count": 3,
   "id": "7ba24299-44ca-40b4-a35e-8fb8efaaf1cd",
   "metadata": {},
   "outputs": [
    {
     "name": "stdout",
     "output_type": "stream",
     "text": [
      "<class 'pandas.core.frame.DataFrame'>\n",
      "RangeIndex: 35358 entries, 0 to 35357\n",
      "Data columns (total 11 columns):\n",
      " #   Column             Non-Null Count  Dtype  \n",
      "---  ------             --------------  -----  \n",
      " 0   Unnamed: 0         35358 non-null  int64  \n",
      " 1   helpful            16574 non-null  float64\n",
      " 2   rating             31473 non-null  float64\n",
      " 3   review_date        35093 non-null  object \n",
      " 4   site               34697 non-null  object \n",
      " 5   text               34869 non-null  object \n",
      " 6   verified_buyer     16145 non-null  object \n",
      " 7   verified_reviewer  29323 non-null  object \n",
      " 8   city               35358 non-null  object \n",
      " 9   state              35006 non-null  object \n",
      " 10  cleaned_text       34865 non-null  object \n",
      "dtypes: float64(2), int64(1), object(8)\n",
      "memory usage: 3.0+ MB\n"
     ]
    }
   ],
   "source": [
    "df.info()"
   ]
  },
  {
   "cell_type": "code",
   "execution_count": 4,
   "id": "b4a77c6a-331d-49b1-8852-0c6f4fc64cd2",
   "metadata": {},
   "outputs": [
    {
     "data": {
      "text/html": [
       "<div>\n",
       "<style scoped>\n",
       "    .dataframe tbody tr th:only-of-type {\n",
       "        vertical-align: middle;\n",
       "    }\n",
       "\n",
       "    .dataframe tbody tr th {\n",
       "        vertical-align: top;\n",
       "    }\n",
       "\n",
       "    .dataframe thead th {\n",
       "        text-align: right;\n",
       "    }\n",
       "</style>\n",
       "<table border=\"1\" class=\"dataframe\">\n",
       "  <thead>\n",
       "    <tr style=\"text-align: right;\">\n",
       "      <th></th>\n",
       "      <th>Unnamed: 0</th>\n",
       "      <th>helpful</th>\n",
       "      <th>rating</th>\n",
       "      <th>review_date</th>\n",
       "      <th>site</th>\n",
       "      <th>text</th>\n",
       "      <th>verified_buyer</th>\n",
       "      <th>verified_reviewer</th>\n",
       "      <th>city</th>\n",
       "      <th>state</th>\n",
       "      <th>cleaned_text</th>\n",
       "    </tr>\n",
       "  </thead>\n",
       "  <tbody>\n",
       "    <tr>\n",
       "      <th>0</th>\n",
       "      <td>0</td>\n",
       "      <td>2.0</td>\n",
       "      <td>5.0</td>\n",
       "      <td>2019-05-26</td>\n",
       "      <td>BookIt.com</td>\n",
       "      <td>Just saved $600. on BookIt vs. another web sit...</td>\n",
       "      <td>VerifiedBuyer</td>\n",
       "      <td>VerifiedReviewer</td>\n",
       "      <td>Stuart of Springfield</td>\n",
       "      <td>IL</td>\n",
       "      <td>just saved 600 on bookit vs another web site h...</td>\n",
       "    </tr>\n",
       "    <tr>\n",
       "      <th>1</th>\n",
       "      <td>1</td>\n",
       "      <td>8.0</td>\n",
       "      <td>5.0</td>\n",
       "      <td>2019-03-28</td>\n",
       "      <td>BookIt.com</td>\n",
       "      <td>I had a great experience with BookIt. I needed...</td>\n",
       "      <td>VerifiedBuyer</td>\n",
       "      <td>VerifiedReviewer</td>\n",
       "      <td>Nichole of Roseville</td>\n",
       "      <td>CA</td>\n",
       "      <td>i had a great experience with bookit i needed ...</td>\n",
       "    </tr>\n",
       "    <tr>\n",
       "      <th>2</th>\n",
       "      <td>2</td>\n",
       "      <td>7.0</td>\n",
       "      <td>5.0</td>\n",
       "      <td>2019-02-10</td>\n",
       "      <td>BookIt.com</td>\n",
       "      <td>I have had nothing but courteous patient and w...</td>\n",
       "      <td>VerifiedBuyer</td>\n",
       "      <td>VerifiedReviewer</td>\n",
       "      <td>Cheryl of Corfu</td>\n",
       "      <td>NY</td>\n",
       "      <td>i have had nothing but courteous patient and w...</td>\n",
       "    </tr>\n",
       "    <tr>\n",
       "      <th>3</th>\n",
       "      <td>3</td>\n",
       "      <td>4.0</td>\n",
       "      <td>5.0</td>\n",
       "      <td>2019-05-22</td>\n",
       "      <td>BookIt.com</td>\n",
       "      <td>I just want to let you know that I had talked ...</td>\n",
       "      <td>VerifiedBuyer</td>\n",
       "      <td>VerifiedReviewer</td>\n",
       "      <td>Lisa of Flushing</td>\n",
       "      <td>MI</td>\n",
       "      <td>i just want to let you know that i had talked ...</td>\n",
       "    </tr>\n",
       "    <tr>\n",
       "      <th>4</th>\n",
       "      <td>4</td>\n",
       "      <td>4.0</td>\n",
       "      <td>4.0</td>\n",
       "      <td>2019-04-13</td>\n",
       "      <td>BookIt.com</td>\n",
       "      <td>I called to verify one of the All Inclusive Fe...</td>\n",
       "      <td>VerifiedBuyer</td>\n",
       "      <td>VerifiedReviewer</td>\n",
       "      <td>Brandon of Honolulu</td>\n",
       "      <td>HI</td>\n",
       "      <td>i called to verify one of the all inclusive fe...</td>\n",
       "    </tr>\n",
       "  </tbody>\n",
       "</table>\n",
       "</div>"
      ],
      "text/plain": [
       "   Unnamed: 0  helpful  rating review_date        site  \\\n",
       "0           0      2.0     5.0  2019-05-26  BookIt.com   \n",
       "1           1      8.0     5.0  2019-03-28  BookIt.com   \n",
       "2           2      7.0     5.0  2019-02-10  BookIt.com   \n",
       "3           3      4.0     5.0  2019-05-22  BookIt.com   \n",
       "4           4      4.0     4.0  2019-04-13  BookIt.com   \n",
       "\n",
       "                                                text verified_buyer  \\\n",
       "0  Just saved $600. on BookIt vs. another web sit...  VerifiedBuyer   \n",
       "1  I had a great experience with BookIt. I needed...  VerifiedBuyer   \n",
       "2  I have had nothing but courteous patient and w...  VerifiedBuyer   \n",
       "3  I just want to let you know that I had talked ...  VerifiedBuyer   \n",
       "4  I called to verify one of the All Inclusive Fe...  VerifiedBuyer   \n",
       "\n",
       "  verified_reviewer                   city state  \\\n",
       "0  VerifiedReviewer  Stuart of Springfield    IL   \n",
       "1  VerifiedReviewer   Nichole of Roseville    CA   \n",
       "2  VerifiedReviewer        Cheryl of Corfu    NY   \n",
       "3  VerifiedReviewer       Lisa of Flushing    MI   \n",
       "4  VerifiedReviewer    Brandon of Honolulu    HI   \n",
       "\n",
       "                                        cleaned_text  \n",
       "0  just saved 600 on bookit vs another web site h...  \n",
       "1  i had a great experience with bookit i needed ...  \n",
       "2  i have had nothing but courteous patient and w...  \n",
       "3  i just want to let you know that i had talked ...  \n",
       "4  i called to verify one of the all inclusive fe...  "
      ]
     },
     "execution_count": 4,
     "metadata": {},
     "output_type": "execute_result"
    }
   ],
   "source": [
    "df.head()"
   ]
  },
  {
   "cell_type": "code",
   "execution_count": 12,
   "id": "c66fb937-a332-4c37-aa2d-5c69f664db7d",
   "metadata": {},
   "outputs": [],
   "source": [
    "# Handle NaN values in cleaned_text by replacing them with empty strings\n",
    "df['cleaned_text'] = df['cleaned_text'].fillna(\"\")\n"
   ]
  },
  {
   "cell_type": "code",
   "execution_count": 16,
   "id": "cf494ed0-d28f-4185-93b9-984c80202768",
   "metadata": {},
   "outputs": [
    {
     "data": {
      "text/plain": [
       "0"
      ]
     },
     "execution_count": 16,
     "metadata": {},
     "output_type": "execute_result"
    }
   ],
   "source": [
    "\n",
    "# Verify that there are no NaN values left\n",
    "df['cleaned_text'].isna().sum()"
   ]
  },
  {
   "cell_type": "code",
   "execution_count": 20,
   "id": "4cbccc3e-213f-4681-8693-8bbc1d0dcdf0",
   "metadata": {},
   "outputs": [
    {
     "data": {
      "text/plain": [
       "dtype('O')"
      ]
     },
     "execution_count": 20,
     "metadata": {},
     "output_type": "execute_result"
    }
   ],
   "source": [
    " df['cleaned_text'].dtypes\n"
   ]
  },
  {
   "cell_type": "markdown",
   "id": "1bfec1fc-480b-467a-b2c2-56c4ec766e59",
   "metadata": {},
   "source": [
    "# Sentiment analysis"
   ]
  },
  {
   "cell_type": "code",
   "execution_count": 23,
   "id": "3adfd7b2-2207-4dd3-9c0e-6d02029134ab",
   "metadata": {},
   "outputs": [],
   "source": [
    "analyzer = SentimentIntensityAnalyzer()"
   ]
  },
  {
   "cell_type": "code",
   "execution_count": 25,
   "id": "2e7dfa2e-9dfd-4ef2-b6f3-afd7a7474ae3",
   "metadata": {},
   "outputs": [],
   "source": [
    "# Function to get sentiment scores\n",
    "def get_sentiment(text):\n",
    "    scores = analyzer.polarity_scores(text)\n",
    "    if scores['compound'] >= 0.05:\n",
    "        return 'positive'\n",
    "    elif scores['compound'] <= -0.05:\n",
    "        return 'negative'\n",
    "    else:\n",
    "        return 'neutral'"
   ]
  },
  {
   "cell_type": "code",
   "execution_count": 27,
   "id": "e46d02ba-f380-43fd-b66c-8b265cb75b7b",
   "metadata": {},
   "outputs": [],
   "source": [
    "df['sentiment'] = df['cleaned_text'].apply(get_sentiment)"
   ]
  },
  {
   "cell_type": "code",
   "execution_count": 29,
   "id": "2e9b191d-9d3d-4878-beb1-9fd80747c7da",
   "metadata": {},
   "outputs": [],
   "source": [
    "sentiment_counts = df['sentiment'].value_counts()"
   ]
  },
  {
   "cell_type": "code",
   "execution_count": 33,
   "id": "4c7e2b0c-dd27-424b-9d21-51a87886a2ce",
   "metadata": {},
   "outputs": [
    {
     "data": {
      "text/plain": [
       "sentiment\n",
       "positive    17106\n",
       "negative    16323\n",
       "neutral      1929\n",
       "Name: count, dtype: int64"
      ]
     },
     "execution_count": 33,
     "metadata": {},
     "output_type": "execute_result"
    }
   ],
   "source": [
    "sentiment_counts"
   ]
  },
  {
   "cell_type": "code",
   "execution_count": 35,
   "id": "efae465f-7fae-47d4-8f4e-618a5b3836a8",
   "metadata": {},
   "outputs": [
    {
     "data": {
      "text/html": [
       "<div>\n",
       "<style scoped>\n",
       "    .dataframe tbody tr th:only-of-type {\n",
       "        vertical-align: middle;\n",
       "    }\n",
       "\n",
       "    .dataframe tbody tr th {\n",
       "        vertical-align: top;\n",
       "    }\n",
       "\n",
       "    .dataframe thead th {\n",
       "        text-align: right;\n",
       "    }\n",
       "</style>\n",
       "<table border=\"1\" class=\"dataframe\">\n",
       "  <thead>\n",
       "    <tr style=\"text-align: right;\">\n",
       "      <th></th>\n",
       "      <th>cleaned_text</th>\n",
       "      <th>sentiment</th>\n",
       "    </tr>\n",
       "  </thead>\n",
       "  <tbody>\n",
       "    <tr>\n",
       "      <th>0</th>\n",
       "      <td>just saved 600 on bookit vs another web site h...</td>\n",
       "      <td>positive</td>\n",
       "    </tr>\n",
       "    <tr>\n",
       "      <th>1</th>\n",
       "      <td>i had a great experience with bookit i needed ...</td>\n",
       "      <td>positive</td>\n",
       "    </tr>\n",
       "    <tr>\n",
       "      <th>2</th>\n",
       "      <td>i have had nothing but courteous patient and w...</td>\n",
       "      <td>positive</td>\n",
       "    </tr>\n",
       "    <tr>\n",
       "      <th>3</th>\n",
       "      <td>i just want to let you know that i had talked ...</td>\n",
       "      <td>positive</td>\n",
       "    </tr>\n",
       "    <tr>\n",
       "      <th>4</th>\n",
       "      <td>i called to verify one of the all inclusive fe...</td>\n",
       "      <td>negative</td>\n",
       "    </tr>\n",
       "  </tbody>\n",
       "</table>\n",
       "</div>"
      ],
      "text/plain": [
       "                                        cleaned_text sentiment\n",
       "0  just saved 600 on bookit vs another web site h...  positive\n",
       "1  i had a great experience with bookit i needed ...  positive\n",
       "2  i have had nothing but courteous patient and w...  positive\n",
       "3  i just want to let you know that i had talked ...  positive\n",
       "4  i called to verify one of the all inclusive fe...  negative"
      ]
     },
     "execution_count": 35,
     "metadata": {},
     "output_type": "execute_result"
    }
   ],
   "source": [
    "df[['cleaned_text', 'sentiment']].head(5)"
   ]
  },
  {
   "cell_type": "code",
   "execution_count": 37,
   "id": "bda76c5c-fcde-44eb-9e13-c4eccd087909",
   "metadata": {},
   "outputs": [],
   "source": [
    "aspect_keywords = {\n",
    "    'service': ['service', 'staff', 'customer', 'support', 'experience', 'help', 'care'],\n",
    "    'food': ['food', 'meal', 'dining', 'restaurant', 'taste', 'menu', 'cuisine'],\n",
    "    'amenities': ['room', 'facility', 'pool', 'wifi', 'cleanliness', 'comfort', 'parking']\n",
    "}"
   ]
  },
  {
   "cell_type": "code",
   "execution_count": 39,
   "id": "d6893087-e500-4888-961d-4c11e681ff7a",
   "metadata": {},
   "outputs": [],
   "source": [
    "def identify_aspects(text):\n",
    "    aspects = []\n",
    "    for aspect, keywords in aspect_keywords.items():\n",
    "        if any(keyword in text for keyword in keywords):\n",
    "            aspects.append(aspect)\n",
    "    return aspects if aspects else ['general']"
   ]
  },
  {
   "cell_type": "code",
   "execution_count": 41,
   "id": "fe6a5a68-29d3-4de6-920b-ad92db3349e3",
   "metadata": {},
   "outputs": [],
   "source": [
    "df['aspects'] = df['cleaned_text'].apply(identify_aspects)\n"
   ]
  },
  {
   "cell_type": "code",
   "execution_count": 45,
   "id": "e6668ef0-03cf-49b6-917e-a5d240fb4643",
   "metadata": {},
   "outputs": [],
   "source": [
    "aspect_df = df.explode('aspects')"
   ]
  },
  {
   "cell_type": "code",
   "execution_count": 47,
   "id": "4a133580-fdee-4b41-b767-37449446edf2",
   "metadata": {},
   "outputs": [
    {
     "data": {
      "text/html": [
       "<div>\n",
       "<style scoped>\n",
       "    .dataframe tbody tr th:only-of-type {\n",
       "        vertical-align: middle;\n",
       "    }\n",
       "\n",
       "    .dataframe tbody tr th {\n",
       "        vertical-align: top;\n",
       "    }\n",
       "\n",
       "    .dataframe thead th {\n",
       "        text-align: right;\n",
       "    }\n",
       "</style>\n",
       "<table border=\"1\" class=\"dataframe\">\n",
       "  <thead>\n",
       "    <tr style=\"text-align: right;\">\n",
       "      <th></th>\n",
       "      <th>cleaned_text</th>\n",
       "      <th>aspects</th>\n",
       "      <th>sentiment</th>\n",
       "    </tr>\n",
       "  </thead>\n",
       "  <tbody>\n",
       "    <tr>\n",
       "      <th>0</th>\n",
       "      <td>just saved 600 on bookit vs another web site h...</td>\n",
       "      <td>general</td>\n",
       "      <td>positive</td>\n",
       "    </tr>\n",
       "    <tr>\n",
       "      <th>1</th>\n",
       "      <td>i had a great experience with bookit i needed ...</td>\n",
       "      <td>service</td>\n",
       "      <td>positive</td>\n",
       "    </tr>\n",
       "    <tr>\n",
       "      <th>2</th>\n",
       "      <td>i have had nothing but courteous patient and w...</td>\n",
       "      <td>service</td>\n",
       "      <td>positive</td>\n",
       "    </tr>\n",
       "    <tr>\n",
       "      <th>3</th>\n",
       "      <td>i just want to let you know that i had talked ...</td>\n",
       "      <td>general</td>\n",
       "      <td>positive</td>\n",
       "    </tr>\n",
       "    <tr>\n",
       "      <th>4</th>\n",
       "      <td>i called to verify one of the all inclusive fe...</td>\n",
       "      <td>service</td>\n",
       "      <td>negative</td>\n",
       "    </tr>\n",
       "  </tbody>\n",
       "</table>\n",
       "</div>"
      ],
      "text/plain": [
       "                                        cleaned_text  aspects sentiment\n",
       "0  just saved 600 on bookit vs another web site h...  general  positive\n",
       "1  i had a great experience with bookit i needed ...  service  positive\n",
       "2  i have had nothing but courteous patient and w...  service  positive\n",
       "3  i just want to let you know that i had talked ...  general  positive\n",
       "4  i called to verify one of the all inclusive fe...  service  negative"
      ]
     },
     "execution_count": 47,
     "metadata": {},
     "output_type": "execute_result"
    }
   ],
   "source": [
    "aspect_df[['cleaned_text', 'aspects', 'sentiment']].head(5)"
   ]
  },
  {
   "cell_type": "code",
   "execution_count": 51,
   "id": "74317595-7565-4bb1-8ea8-0bce7e42a130",
   "metadata": {},
   "outputs": [],
   "source": [
    "df['aspects'] = df['aspects'].apply(lambda x: ', '.join(x) if isinstance(x, list) else str(x))"
   ]
  },
  {
   "cell_type": "code",
   "execution_count": 57,
   "id": "37a5d8c2-41b8-4de1-b999-b2a2827b8736",
   "metadata": {},
   "outputs": [
    {
     "name": "stdout",
     "output_type": "stream",
     "text": [
      " Data saved successfully: sentiment_analysis_results.csv\n"
     ]
    }
   ],
   "source": [
    "output = \"sentiment_analysis_results.csv\"  \n",
    "df.to_csv(output, index=False)\n",
    "\n",
    "print(f\" Data saved successfully: {output}\")\n"
   ]
  },
  {
   "cell_type": "code",
   "execution_count": null,
   "id": "51e4b7f9-162b-464b-bbfa-9e8ab31771c6",
   "metadata": {},
   "outputs": [],
   "source": []
  }
 ],
 "metadata": {
  "kernelspec": {
   "display_name": "Python 3 (ipykernel)",
   "language": "python",
   "name": "python3"
  },
  "language_info": {
   "codemirror_mode": {
    "name": "ipython",
    "version": 3
   },
   "file_extension": ".py",
   "mimetype": "text/x-python",
   "name": "python",
   "nbconvert_exporter": "python",
   "pygments_lexer": "ipython3",
   "version": "3.12.7"
  }
 },
 "nbformat": 4,
 "nbformat_minor": 5
}

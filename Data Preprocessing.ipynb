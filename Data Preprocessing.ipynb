{
 "cells": [
  {
   "cell_type": "code",
   "execution_count": 2,
   "id": "b70a0fb6-cf64-4e36-8251-c69e1386bbbc",
   "metadata": {},
   "outputs": [],
   "source": [
    "import numpy as np\n",
    "import pandas as pd\n",
    "import re\n",
    "from datetime import datetime"
   ]
  },
  {
   "cell_type": "code",
   "execution_count": 3,
   "id": "a6c1c1c1-3a33-4d7c-ac29-33670c7d221a",
   "metadata": {},
   "outputs": [],
   "source": [
    "df=pd.read_csv(\"consumer_reviews (1).csv\")"
   ]
  },
  {
   "cell_type": "code",
   "execution_count": 4,
   "id": "33fc4895-0b7b-40d1-a6dd-dc34de8a995d",
   "metadata": {},
   "outputs": [
    {
     "name": "stdout",
     "output_type": "stream",
     "text": [
      "Number of Rows: 35358\n",
      "Number of Columns: 8\n"
     ]
    }
   ],
   "source": [
    "print(\"Number of Rows:\",df.shape[0])\n",
    "print(\"Number of Columns:\", df.shape[1])"
   ]
  },
  {
   "cell_type": "code",
   "execution_count": 5,
   "id": "c528dc21-d7e3-4f6a-aaf5-c8b8d70bb910",
   "metadata": {},
   "outputs": [
    {
     "data": {
      "text/html": [
       "<div>\n",
       "<style scoped>\n",
       "    .dataframe tbody tr th:only-of-type {\n",
       "        vertical-align: middle;\n",
       "    }\n",
       "\n",
       "    .dataframe tbody tr th {\n",
       "        vertical-align: top;\n",
       "    }\n",
       "\n",
       "    .dataframe thead th {\n",
       "        text-align: right;\n",
       "    }\n",
       "</style>\n",
       "<table border=\"1\" class=\"dataframe\">\n",
       "  <thead>\n",
       "    <tr style=\"text-align: right;\">\n",
       "      <th></th>\n",
       "      <th>helpful</th>\n",
       "      <th>rating</th>\n",
       "      <th>review_date</th>\n",
       "      <th>site</th>\n",
       "      <th>text</th>\n",
       "      <th>user</th>\n",
       "      <th>verified_buyer</th>\n",
       "      <th>verified_reviewer</th>\n",
       "    </tr>\n",
       "  </thead>\n",
       "  <tbody>\n",
       "    <tr>\n",
       "      <th>0</th>\n",
       "      <td>2 people</td>\n",
       "      <td>5.0</td>\n",
       "      <td>Original review: May 26, 2019</td>\n",
       "      <td>BookIt.com</td>\n",
       "      <td>Just saved $600. on BookIt vs. another web sit...</td>\n",
       "      <td>Stuart of Springfield, IL</td>\n",
       "      <td>\\n                    Verified Buyer\\n        ...</td>\n",
       "      <td>\\n                    Verified Reviewer\\n     ...</td>\n",
       "    </tr>\n",
       "    <tr>\n",
       "      <th>1</th>\n",
       "      <td>8 people</td>\n",
       "      <td>5.0</td>\n",
       "      <td>Original review: March 28, 2019</td>\n",
       "      <td>BookIt.com</td>\n",
       "      <td>I had a great experience with BookIt. I needed...</td>\n",
       "      <td>Nichole of Roseville, CA</td>\n",
       "      <td>\\n                    Verified Buyer\\n        ...</td>\n",
       "      <td>\\n                    Verified Reviewer\\n     ...</td>\n",
       "    </tr>\n",
       "    <tr>\n",
       "      <th>2</th>\n",
       "      <td>7 people</td>\n",
       "      <td>5.0</td>\n",
       "      <td>Original review: Feb. 10, 2019</td>\n",
       "      <td>BookIt.com</td>\n",
       "      <td>I have had nothing but courteous patient and w...</td>\n",
       "      <td>Cheryl of Corfu, NY</td>\n",
       "      <td>\\n                    Verified Buyer\\n        ...</td>\n",
       "      <td>\\n                    Verified Reviewer\\n     ...</td>\n",
       "    </tr>\n",
       "    <tr>\n",
       "      <th>3</th>\n",
       "      <td>4 people</td>\n",
       "      <td>5.0</td>\n",
       "      <td>Original review: May 22, 2019</td>\n",
       "      <td>BookIt.com</td>\n",
       "      <td>I just want to let you know that I had talked ...</td>\n",
       "      <td>Lisa of Flushing, MI</td>\n",
       "      <td>\\n                    Verified Buyer\\n        ...</td>\n",
       "      <td>\\n                    Verified Reviewer\\n     ...</td>\n",
       "    </tr>\n",
       "    <tr>\n",
       "      <th>4</th>\n",
       "      <td>4 people</td>\n",
       "      <td>4.0</td>\n",
       "      <td>Original review: April 13, 2019</td>\n",
       "      <td>BookIt.com</td>\n",
       "      <td>I called to verify one of the All Inclusive Fe...</td>\n",
       "      <td>Brandon of Honolulu, HI</td>\n",
       "      <td>\\n                    Verified Buyer\\n        ...</td>\n",
       "      <td>\\n                    Verified Reviewer\\n     ...</td>\n",
       "    </tr>\n",
       "  </tbody>\n",
       "</table>\n",
       "</div>"
      ],
      "text/plain": [
       "    helpful  rating                      review_date        site  \\\n",
       "0  2 people     5.0    Original review: May 26, 2019  BookIt.com   \n",
       "1  8 people     5.0  Original review: March 28, 2019  BookIt.com   \n",
       "2  7 people     5.0   Original review: Feb. 10, 2019  BookIt.com   \n",
       "3  4 people     5.0    Original review: May 22, 2019  BookIt.com   \n",
       "4  4 people     4.0  Original review: April 13, 2019  BookIt.com   \n",
       "\n",
       "                                                text  \\\n",
       "0  Just saved $600. on BookIt vs. another web sit...   \n",
       "1  I had a great experience with BookIt. I needed...   \n",
       "2  I have had nothing but courteous patient and w...   \n",
       "3  I just want to let you know that I had talked ...   \n",
       "4  I called to verify one of the All Inclusive Fe...   \n",
       "\n",
       "                        user  \\\n",
       "0  Stuart of Springfield, IL   \n",
       "1   Nichole of Roseville, CA   \n",
       "2        Cheryl of Corfu, NY   \n",
       "3       Lisa of Flushing, MI   \n",
       "4    Brandon of Honolulu, HI   \n",
       "\n",
       "                                      verified_buyer  \\\n",
       "0  \\n                    Verified Buyer\\n        ...   \n",
       "1  \\n                    Verified Buyer\\n        ...   \n",
       "2  \\n                    Verified Buyer\\n        ...   \n",
       "3  \\n                    Verified Buyer\\n        ...   \n",
       "4  \\n                    Verified Buyer\\n        ...   \n",
       "\n",
       "                                   verified_reviewer  \n",
       "0  \\n                    Verified Reviewer\\n     ...  \n",
       "1  \\n                    Verified Reviewer\\n     ...  \n",
       "2  \\n                    Verified Reviewer\\n     ...  \n",
       "3  \\n                    Verified Reviewer\\n     ...  \n",
       "4  \\n                    Verified Reviewer\\n     ...  "
      ]
     },
     "execution_count": 5,
     "metadata": {},
     "output_type": "execute_result"
    }
   ],
   "source": [
    "df.head()"
   ]
  },
  {
   "cell_type": "code",
   "execution_count": 6,
   "id": "92d4c0d7-beba-42ac-b19a-900fd30e6f5d",
   "metadata": {},
   "outputs": [
    {
     "data": {
      "text/plain": [
       "helpful               object\n",
       "rating               float64\n",
       "review_date           object\n",
       "site                  object\n",
       "text                  object\n",
       "user                  object\n",
       "verified_buyer        object\n",
       "verified_reviewer     object\n",
       "dtype: object"
      ]
     },
     "execution_count": 6,
     "metadata": {},
     "output_type": "execute_result"
    }
   ],
   "source": [
    "df.dtypes"
   ]
  },
  {
   "cell_type": "code",
   "execution_count": 7,
   "id": "bdc26abe-4f84-439c-ab8c-c301ea9590de",
   "metadata": {},
   "outputs": [
    {
     "data": {
      "text/plain": [
       "helpful              18784\n",
       "rating                3885\n",
       "review_date              0\n",
       "site                   661\n",
       "text                   489\n",
       "user                     0\n",
       "verified_buyer       19213\n",
       "verified_reviewer     6035\n",
       "dtype: int64"
      ]
     },
     "execution_count": 7,
     "metadata": {},
     "output_type": "execute_result"
    }
   ],
   "source": [
    "df.isnull().sum()"
   ]
  },
  {
   "cell_type": "code",
   "execution_count": 8,
   "id": "9135757d-0736-4288-b962-290c141c8301",
   "metadata": {},
   "outputs": [],
   "source": [
    "# Fill na with empty string\n",
    "df['helpful'] = df['helpful'].fillna('')\n",
    "df['rating'] = df['rating'].fillna('')\n",
    "df['text'] = df['text'].fillna('')\n",
    "df['verified_buyer'] = df['verified_buyer'].fillna('')\n",
    "df['verified_reviewer'] = df['verified_reviewer'].fillna('')"
   ]
  },
  {
   "cell_type": "code",
   "execution_count": 9,
   "id": "bdf8fdae-6d8e-4962-b22c-689a232bf9f7",
   "metadata": {},
   "outputs": [
    {
     "data": {
      "text/plain": [
       "helpful                0\n",
       "rating                 0\n",
       "review_date            0\n",
       "site                 661\n",
       "text                   0\n",
       "user                   0\n",
       "verified_buyer         0\n",
       "verified_reviewer      0\n",
       "dtype: int64"
      ]
     },
     "execution_count": 9,
     "metadata": {},
     "output_type": "execute_result"
    }
   ],
   "source": [
    "df.isnull().sum()"
   ]
  },
  {
   "cell_type": "code",
   "execution_count": 10,
   "id": "c658bf05-b8f7-45ab-af0d-d9fb6ebb8f82",
   "metadata": {},
   "outputs": [],
   "source": [
    "# new data frame with split value columns \n",
    "new = df['user'].str.split(\", \", n = 1, expand = True) \n",
    "  \n",
    "# making separate first name column from new data frame \n",
    "df['city']= new[0] \n",
    "  \n",
    "# making separate last name column from new data frame \n",
    "df['state']= new[1] "
   ]
  },
  {
   "cell_type": "code",
   "execution_count": 11,
   "id": "573eadeb-5b3c-4e6d-bc87-9a8750f9c60d",
   "metadata": {},
   "outputs": [],
   "source": [
    "# Dropping old Name columns \n",
    "df.drop(columns =['user'], inplace = True) "
   ]
  },
  {
   "cell_type": "code",
   "execution_count": 12,
   "id": "5664590e-3a41-4c90-aaf7-8b8939fc77e9",
   "metadata": {},
   "outputs": [
    {
     "data": {
      "text/plain": [
       "helpful              object\n",
       "rating               object\n",
       "review_date          object\n",
       "site                 object\n",
       "text                 object\n",
       "verified_buyer       object\n",
       "verified_reviewer    object\n",
       "city                 object\n",
       "state                object\n",
       "dtype: object"
      ]
     },
     "execution_count": 12,
     "metadata": {},
     "output_type": "execute_result"
    }
   ],
   "source": [
    "df.dtypes"
   ]
  },
  {
   "cell_type": "code",
   "execution_count": 13,
   "id": "d63943ec-3ccd-4a76-8b78-6af8ef735097",
   "metadata": {},
   "outputs": [],
   "source": [
    "# Remove 'helpful' \n",
    "df['helpful'] = df['helpful'].apply(lambda x: re.sub(r'(\\w)+$','',x))\n"
   ]
  },
  {
   "cell_type": "code",
   "execution_count": 14,
   "id": "18679784-4583-4826-ba35-7e4892f0b474",
   "metadata": {},
   "outputs": [],
   "source": [
    "# \\S+ means anything that is not an empty space\n",
    "df['verified_buyer'] = df['verified_buyer'].apply(lambda x: re.sub(r'\\n\\S*', '', x))\n",
    "df['verified_reviewer'] = df['verified_reviewer'].apply(lambda x: re.sub(r'\\n\\S*', '', x))\n",
    "\n",
    "# \\s+ means all empty space (\\n, \\r, \\t)\n",
    "df['verified_buyer'] = df['verified_buyer'].apply(lambda x: re.sub(r'\\s+', '', x))\n",
    "df['verified_reviewer'] = df['verified_reviewer'].apply(lambda x: re.sub(r'\\s+', '', x))\n",
    "\n",
    "#Date selection from ['review_date']\n",
    "df['review_date'] = df['review_date'].apply(lambda x: re.sub('(Original review:)+', '',x))"
   ]
  },
  {
   "cell_type": "code",
   "execution_count": 15,
   "id": "e9c4d04b-d7e6-4e91-86b6-c6e9ac6b3b3f",
   "metadata": {},
   "outputs": [],
   "source": [
    "# Clean 'review_date'\n",
    "df['review_date'] = df.review_date.map(lambda x: x.replace(',',''))\n",
    "df['review_date'] = df['review_date'].str.replace(r'[^\\w\\s]','')\n",
    "df['review_date'] = df['review_date'].str.replace('March', 'Mar')\n",
    "df['review_date'] = df['review_date'].str.replace('April', 'Apr')\n",
    "df['review_date'] = df['review_date'].str.replace('June', 'Jun')\n",
    "df['review_date'] = df['review_date'].str.replace('July', 'Jul')\n",
    "df['review_date'] = df['review_date'].str.replace('Sept', 'Sep')\n",
    "df['review_date'] = df['review_date'].str.strip('Resolution response ')"
   ]
  },
  {
   "cell_type": "code",
   "execution_count": 16,
   "id": "a3a527b3-7865-41ec-9d42-00e9394ea9fb",
   "metadata": {},
   "outputs": [],
   "source": [
    "1# Automatically detect mixed date formats\n",
    "df['review_date'] = pd.to_datetime(df['review_date'], format='mixed', errors='coerce')\n"
   ]
  },
  {
   "cell_type": "code",
   "execution_count": 17,
   "id": "98224376-6d81-4b5b-89c0-a4bfdf87f783",
   "metadata": {},
   "outputs": [],
   "source": [
    "# Convert 'helpful' and 'rating' data type\n",
    "df['helpful'] = df['helpful'].apply(pd.to_numeric, downcast='float', errors='coerce')\n",
    "df['rating'] = df['rating'].apply(pd.to_numeric, downcast='float', errors='coerce')"
   ]
  },
  {
   "cell_type": "code",
   "execution_count": 18,
   "id": "8548b78a-a98d-454f-894a-58852fda2671",
   "metadata": {},
   "outputs": [],
   "source": [
    "#travel sites: \n",
    "#'BookIt.com', 'CheapOair', 'Expedia', 'Priceline','Booking.com', 'Hotels.com','Travelocity', 'Hotwire',\n",
    "#'Orbitz', 'OneTravel', 'TripAdvisor', 'Airbnb', 'CheapTickets', 'trivago', 'KAYAK', 'Travelzoo', 'Hipmunk', \n",
    "#'Jetsetter'\n",
    "\n",
    "BookIt = df.loc[df.loc[:,'site']=='BookIt.com',:]\n",
    "CheapOair = df.loc[df.loc[:,'site']=='CheapOair',:] \n",
    "Expedia = df.loc[df.loc[:,'site']=='Expedia',:]\n",
    "Priceline = df.loc[df.loc[:,'site']=='Priceline',:]\n",
    "Booking = df.loc[df.loc[:,'site']=='Booking.com',:]\n",
    "Hotels = df.loc[df.loc[:,'site']=='Hotels.com',:]\n",
    "Travelocity = df.loc[df.loc[:,'site']=='Travelocity',:]\n",
    "Hotwire = df.loc[df.loc[:,'site']=='Hotwire',:]\n",
    "Orbitz = df.loc[df.loc[:,'site']=='Orbitz',:]\n",
    "OneTravel = df.loc[df.loc[:,'site']=='OneTravel',:]\n",
    "TripAdvisor = df.loc[df.loc[:,'site']=='TripAdvisor',:]\n",
    "Airbnb = df.loc[df.loc[:,'site']=='Airbnb',:]\n",
    "CheapTickets = df.loc[df.loc[:,'site']=='CheapTickets',:]\n",
    "trivago = df.loc[df.loc[:,'site']=='trivago',:]\n",
    "KAYAK = df.loc[df.loc[:,'site']=='KAYAK',:]\n",
    "Travelzoo = df.loc[df.loc[:,'site']=='Travelzoo',:]\n",
    "Hipmunk = df.loc[df.loc[:,'site']=='Hipmunk',:]"
   ]
  },
  {
   "cell_type": "code",
   "execution_count": 19,
   "id": "3a2688ea-9136-45a4-85eb-de537dffed1f",
   "metadata": {},
   "outputs": [
    {
     "data": {
      "text/html": [
       "<div>\n",
       "<style scoped>\n",
       "    .dataframe tbody tr th:only-of-type {\n",
       "        vertical-align: middle;\n",
       "    }\n",
       "\n",
       "    .dataframe tbody tr th {\n",
       "        vertical-align: top;\n",
       "    }\n",
       "\n",
       "    .dataframe thead th {\n",
       "        text-align: right;\n",
       "    }\n",
       "</style>\n",
       "<table border=\"1\" class=\"dataframe\">\n",
       "  <thead>\n",
       "    <tr style=\"text-align: right;\">\n",
       "      <th></th>\n",
       "      <th>helpful</th>\n",
       "      <th>rating</th>\n",
       "      <th>review_date</th>\n",
       "      <th>site</th>\n",
       "      <th>text</th>\n",
       "      <th>verified_buyer</th>\n",
       "      <th>verified_reviewer</th>\n",
       "      <th>city</th>\n",
       "      <th>state</th>\n",
       "    </tr>\n",
       "  </thead>\n",
       "  <tbody>\n",
       "    <tr>\n",
       "      <th>0</th>\n",
       "      <td>2.0</td>\n",
       "      <td>5.0</td>\n",
       "      <td>2019-05-26</td>\n",
       "      <td>BookIt.com</td>\n",
       "      <td>Just saved $600. on BookIt vs. another web sit...</td>\n",
       "      <td>VerifiedBuyer</td>\n",
       "      <td>VerifiedReviewer</td>\n",
       "      <td>Stuart of Springfield</td>\n",
       "      <td>IL</td>\n",
       "    </tr>\n",
       "    <tr>\n",
       "      <th>1</th>\n",
       "      <td>8.0</td>\n",
       "      <td>5.0</td>\n",
       "      <td>2019-03-28</td>\n",
       "      <td>BookIt.com</td>\n",
       "      <td>I had a great experience with BookIt. I needed...</td>\n",
       "      <td>VerifiedBuyer</td>\n",
       "      <td>VerifiedReviewer</td>\n",
       "      <td>Nichole of Roseville</td>\n",
       "      <td>CA</td>\n",
       "    </tr>\n",
       "    <tr>\n",
       "      <th>2</th>\n",
       "      <td>7.0</td>\n",
       "      <td>5.0</td>\n",
       "      <td>2019-02-10</td>\n",
       "      <td>BookIt.com</td>\n",
       "      <td>I have had nothing but courteous patient and w...</td>\n",
       "      <td>VerifiedBuyer</td>\n",
       "      <td>VerifiedReviewer</td>\n",
       "      <td>Cheryl of Corfu</td>\n",
       "      <td>NY</td>\n",
       "    </tr>\n",
       "    <tr>\n",
       "      <th>3</th>\n",
       "      <td>4.0</td>\n",
       "      <td>5.0</td>\n",
       "      <td>2019-05-22</td>\n",
       "      <td>BookIt.com</td>\n",
       "      <td>I just want to let you know that I had talked ...</td>\n",
       "      <td>VerifiedBuyer</td>\n",
       "      <td>VerifiedReviewer</td>\n",
       "      <td>Lisa of Flushing</td>\n",
       "      <td>MI</td>\n",
       "    </tr>\n",
       "    <tr>\n",
       "      <th>4</th>\n",
       "      <td>4.0</td>\n",
       "      <td>4.0</td>\n",
       "      <td>2019-04-13</td>\n",
       "      <td>BookIt.com</td>\n",
       "      <td>I called to verify one of the All Inclusive Fe...</td>\n",
       "      <td>VerifiedBuyer</td>\n",
       "      <td>VerifiedReviewer</td>\n",
       "      <td>Brandon of Honolulu</td>\n",
       "      <td>HI</td>\n",
       "    </tr>\n",
       "  </tbody>\n",
       "</table>\n",
       "</div>"
      ],
      "text/plain": [
       "   helpful  rating review_date        site  \\\n",
       "0      2.0     5.0  2019-05-26  BookIt.com   \n",
       "1      8.0     5.0  2019-03-28  BookIt.com   \n",
       "2      7.0     5.0  2019-02-10  BookIt.com   \n",
       "3      4.0     5.0  2019-05-22  BookIt.com   \n",
       "4      4.0     4.0  2019-04-13  BookIt.com   \n",
       "\n",
       "                                                text verified_buyer  \\\n",
       "0  Just saved $600. on BookIt vs. another web sit...  VerifiedBuyer   \n",
       "1  I had a great experience with BookIt. I needed...  VerifiedBuyer   \n",
       "2  I have had nothing but courteous patient and w...  VerifiedBuyer   \n",
       "3  I just want to let you know that I had talked ...  VerifiedBuyer   \n",
       "4  I called to verify one of the All Inclusive Fe...  VerifiedBuyer   \n",
       "\n",
       "  verified_reviewer                   city state  \n",
       "0  VerifiedReviewer  Stuart of Springfield    IL  \n",
       "1  VerifiedReviewer   Nichole of Roseville    CA  \n",
       "2  VerifiedReviewer        Cheryl of Corfu    NY  \n",
       "3  VerifiedReviewer       Lisa of Flushing    MI  \n",
       "4  VerifiedReviewer    Brandon of Honolulu    HI  "
      ]
     },
     "execution_count": 19,
     "metadata": {},
     "output_type": "execute_result"
    }
   ],
   "source": [
    "df.head()"
   ]
  },
  {
   "cell_type": "markdown",
   "id": "df80bfab-4085-4696-a4ab-294a5d8716d9",
   "metadata": {},
   "source": [
    "- A Verified Buyer has purchased the reviewed product or service and provided proof of purchase history to ConsumerAffairs. This specification is intended to identify those members of our community who are submitting reviews of products that they own or services they've received. Any proof of purchase information submitted to ConsumerAffairs will not be displayed on our site or used for any other purpose.\n",
    "\n",
    "- A Verified Reviewer has created an account on ConsumerAffairs and confirmed his/her email address through our verification process, has logged in through a social media site like Facebook or Twitter that has confirmed the reviewer's identity, or has been identified by a company that has provided ConsumerAffairs with valid contact information for the reviewer. Verification ensures reviews are written by credible members of the ConsumerAffairs community."
   ]
  },
  {
   "cell_type": "code",
   "execution_count": 21,
   "id": "ca8b6650-c239-4980-ad4f-42bfeb285262",
   "metadata": {},
   "outputs": [],
   "source": [
    "# Remove rows with missing review text\n",
    "df = df.dropna(subset=['text']).reset_index(drop=True)"
   ]
  },
  {
   "cell_type": "code",
   "execution_count": 22,
   "id": "37679666-b3ef-42e2-989b-96c40e943b69",
   "metadata": {},
   "outputs": [],
   "source": [
    "# Text cleaning function\n",
    "def clean_text(text):\n",
    "    text = text.lower()  # Lowercase\n",
    "    text = re.sub(r'[^a-zA-Z0-9\\s]', '', text)  # Remove special characters\n",
    "    text = re.sub(r'\\s+', ' ', text).strip()  # Remove extra whitespace\n",
    "    return text"
   ]
  },
  {
   "cell_type": "code",
   "execution_count": 23,
   "id": "fa0b3ab4-f221-43be-8ca4-a59513bc49dd",
   "metadata": {},
   "outputs": [],
   "source": [
    "# Apply cleaning\n",
    "df['cleaned_text'] = df['text'].apply(clean_text)\n"
   ]
  },
  {
   "cell_type": "code",
   "execution_count": 24,
   "id": "865d598b-4681-4ede-988a-ae4bd5264db3",
   "metadata": {},
   "outputs": [],
   "source": [
    "df.to_csv('Claeneddf.csv')"
   ]
  },
  {
   "cell_type": "code",
   "execution_count": 25,
   "id": "580a7dc6-62f2-476a-b4f7-50d3db389246",
   "metadata": {},
   "outputs": [
    {
     "data": {
      "text/plain": [
       "18784"
      ]
     },
     "execution_count": 25,
     "metadata": {},
     "output_type": "execute_result"
    }
   ],
   "source": [
    "df['helpful'].isnull().sum()"
   ]
  },
  {
   "cell_type": "code",
   "execution_count": null,
   "id": "072a3589-674e-4c22-abf9-01d7041271bd",
   "metadata": {},
   "outputs": [],
   "source": []
  }
 ],
 "metadata": {
  "kernelspec": {
   "display_name": "Python 3 (ipykernel)",
   "language": "python",
   "name": "python3"
  },
  "language_info": {
   "codemirror_mode": {
    "name": "ipython",
    "version": 3
   },
   "file_extension": ".py",
   "mimetype": "text/x-python",
   "name": "python",
   "nbconvert_exporter": "python",
   "pygments_lexer": "ipython3",
   "version": "3.12.7"
  }
 },
 "nbformat": 4,
 "nbformat_minor": 5
}
